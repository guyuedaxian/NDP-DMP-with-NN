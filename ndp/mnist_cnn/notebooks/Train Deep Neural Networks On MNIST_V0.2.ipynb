{
 "cells": [
  {
   "cell_type": "markdown",
   "metadata": {},
   "source": [
    "### This notebook for training MNIST CNN\n",
    "- A DNN network\n",
    "- A Simple CNN network\n",
    "- A Normal CNN network"
   ]
  },
  {
   "cell_type": "code",
   "execution_count": null,
   "metadata": {
    "id": "-7XCidcXrlWC"
   },
   "outputs": [],
   "source": [
    "from __future__ import print_function\n",
    "import argparse\n",
    "import torch\n",
    "import torch.nn as nn\n",
    "import torch.nn.functional as F\n",
    "from torchvision import datasets, transforms\n",
    "from torch.optim.lr_scheduler import StepLR"
   ]
  },
  {
   "cell_type": "code",
   "execution_count": null,
   "metadata": {},
   "outputs": [],
   "source": [
    "neuros = 500\n",
    "# neuros = 200"
   ]
  },
  {
   "cell_type": "code",
   "execution_count": null,
   "metadata": {
    "id": "STmQb9ybrtp2"
   },
   "outputs": [],
   "source": [
    "class DNNNet(nn.Module):\n",
    "    def __init__(self):\n",
    "        super(DNNNet, self).__init__()\n",
    "        self.fc1 = nn.Linear(28 * 28 * 1, neuros)\n",
    "        self.fc2 = nn.Linear(neuros, 10)\n",
    "\n",
    "    def forward(self, x):\n",
    "\n",
    "        x = x.view(-1, 28 * 28 * 1)\n",
    "        x = F.relu(self.fc1(x))\n",
    "\n",
    "        x = self.fc2(x)\n",
    "        x = F.log_softmax(x, dim=1)\n",
    "        return x"
   ]
  },
  {
   "cell_type": "code",
   "execution_count": null,
   "metadata": {
    "id": "0yEbHlGXr190"
   },
   "outputs": [],
   "source": [
    "class SimpleCNNNet(nn.Module):\n",
    "    def __init__(self):\n",
    "        super(SimpleCNNNet, self).__init__()\n",
    "        self.conv1 = nn.Conv2d(1, 20, 5, 1)\n",
    "        self.fc1 = nn.Linear(12 * 12 * 20, neuros)\n",
    "        self.fc2 = nn.Linear(neuros, 10)\n",
    "\n",
    "    def forward(self, x):\n",
    "        x = F.relu(self.conv1(x))\n",
    "        x = F.max_pool2d(x, 2, 2)\n",
    "\n",
    "        x = x.view(-1, 12 * 12 * 20)\n",
    "        x = F.relu(self.fc1(x))\n",
    "\n",
    "        x = self.fc2(x)\n",
    "        x = F.log_softmax(x, dim=1)\n",
    "        return x"
   ]
  },
  {
   "cell_type": "code",
   "execution_count": null,
   "metadata": {
    "id": "dVrZJNiIr2Gx"
   },
   "outputs": [],
   "source": [
    "class CNNNet(nn.Module):\n",
    "\n",
    "    def __init__(self):\n",
    "        super(CNNNet, self).__init__()\n",
    "        self.conv1 = nn.Conv2d(1, 20, 5, 1)\n",
    "        self.conv2 = nn.Conv2d(20, 50, 5, 1)\n",
    "        self.fc1 = nn.Linear(4 * 4 * 50, neuros)\n",
    "        self.fc2 = nn.Linear(neuros, 10)\n",
    "\n",
    "    def forward(self, x):\n",
    "        x = F.relu(self.conv1(x))\n",
    "        x = F.max_pool2d(x, 2, 2)\n",
    "\n",
    "        x = F.relu(self.conv2(x))\n",
    "        x = F.max_pool2d(x, 2, 2)\n",
    "\n",
    "        x = x.view(-1, 4 * 4 * 50)\n",
    "        x = F.relu(self.fc1(x))\n",
    "\n",
    "        x = self.fc2(x)\n",
    "        x = F.log_softmax(x, dim=1)\n",
    "        return x"
   ]
  },
  {
   "cell_type": "code",
   "execution_count": null,
   "metadata": {
    "id": "ZB6sxhW0r79l"
   },
   "outputs": [],
   "source": [
    "def train(args, model, device, train_loader, optimizer, epoch):\n",
    "    model.train()\n",
    "    for batch_idx, (data, target) in enumerate(train_loader):\n",
    "        data, target = data.to(device), target.to(device)\n",
    "        optimizer.zero_grad()\n",
    "        output = model(data)\n",
    "        loss = F.nll_loss(output, target)\n",
    "        loss.backward()\n",
    "        optimizer.step()\n",
    "        if batch_idx % 500 == 0:\n",
    "            print('Train Epoch: {} [{}/{} ({:.0f}%)]\\tLoss: {:.6f}'.format(\n",
    "                epoch, batch_idx * len(data), len(train_loader.dataset),\n",
    "                100. * batch_idx / len(train_loader), loss.item()))\n",
    "            if False:\n",
    "                break"
   ]
  },
  {
   "cell_type": "code",
   "execution_count": null,
   "metadata": {
    "id": "cecJUiRTsHEM"
   },
   "outputs": [],
   "source": [
    "def test(model, device, test_loader):\n",
    "    model.eval()\n",
    "    test_loss = 0\n",
    "    correct = 0\n",
    "    with torch.no_grad():\n",
    "        for data, target in test_loader:\n",
    "            data, target = data.to(device), target.to(device)\n",
    "            output = model(data)\n",
    "            test_loss += F.nll_loss(output, target, reduction='sum').item()  # sum up batch loss\n",
    "            pred = output.argmax(dim=1, keepdim=True)  # get the index of the max log-probability\n",
    "            correct += pred.eq(target.view_as(pred)).sum().item()\n",
    "\n",
    "    test_loss /= len(test_loader.dataset)\n",
    "\n",
    "    print('\\nTest set: Average loss: {:.4f}, Accuracy: {}/{} ({:.3f}%)\\n'.format(\n",
    "        test_loss, correct, len(test_loader.dataset),\n",
    "        100. * correct / len(test_loader.dataset)))\n",
    "    return round((100. * correct / len(test_loader.dataset)),3)"
   ]
  },
  {
   "cell_type": "code",
   "execution_count": null,
   "metadata": {
    "colab": {
     "base_uri": "https://localhost:8080/"
    },
    "id": "5GMG80MwsH2Q",
    "outputId": "3757bc7f-2636-4f84-b6db-d517359d4788"
   },
   "outputs": [],
   "source": [
    "net_list = ['dnn', 'scnn', 'cnn']\n",
    "accuracys = []\n",
    "\n",
    "learning_rate = 0.005\n",
    "step_size=1\n",
    "gamma=0.7\n",
    "epoch_num = 15\n",
    "\n",
    "for net in net_list:\n",
    "    print('==============', net,'================')\n",
    "    # Training settings\n",
    "    use_cuda = not False and torch.cuda.is_available()\n",
    "    accuracy_list = []\n",
    "    torch.manual_seed(1)\n",
    "    device = torch.device(\"cuda\" if use_cuda else \"cpu\")\n",
    "    train_kwargs = {'batch_size': 64}\n",
    "    test_kwargs = {'batch_size': 1000}\n",
    "    if use_cuda:\n",
    "        cuda_kwargs = {'num_workers': 1,\n",
    "                      'pin_memory': True,\n",
    "                      'shuffle': True}\n",
    "        train_kwargs.update(cuda_kwargs)\n",
    "        test_kwargs.update(cuda_kwargs)\n",
    "\n",
    "    transform=transforms.Compose([\n",
    "      transforms.ToTensor(),\n",
    "      transforms.Normalize((0.1307,), (0.3081,))\n",
    "      ])\n",
    "    dataset1 = datasets.MNIST('../data', train=True, download=True,\n",
    "                      transform=transform)\n",
    "    dataset2 = datasets.MNIST('../data', train=False,\n",
    "                      transform=transform)\n",
    "    train_loader = torch.utils.data.DataLoader(dataset1,**train_kwargs)\n",
    "    test_loader = torch.utils.data.DataLoader(dataset2, **test_kwargs)\n",
    "\n",
    "    if net == 'dnn':\n",
    "        model = DNNNet().to(device)\n",
    "    elif net == 'scnn':\n",
    "        model = SimpleCNNNet().to(device)\n",
    "    elif net == 'cnn':\n",
    "        model = CNNNet().to(device)\n",
    "\n",
    "    optimizer = torch.optim.Adam(list(model.parameters()), lr=learning_rate)\n",
    "  # optimizer = optim.Adadelta(model.parameters(), lr=args.lr)\n",
    "\n",
    "    scheduler = StepLR(optimizer, step_size=step_size, gamma=gamma)\n",
    "    for epoch in range(1, epoch_num + 1):\n",
    "        train(None, model, device, train_loader, optimizer, epoch)\n",
    "        a = test(model, device, test_loader)\n",
    "        accuracy_list.append(a)\n",
    "        scheduler.step()\n",
    "\n",
    "    if True:\n",
    "        if net == 'dnn':\n",
    "            torch.save(model.state_dict(), \"cnn_trained/mnist_dnn_net_\"+str(neuros)+\".pt\")\n",
    "        elif net == 'scnn':\n",
    "            torch.save(model.state_dict(), \"cnn_trained/mnist_cnn_net_simple_\"+str(neuros)+\".pt\")\n",
    "        elif net == 'cnn':\n",
    "            torch.save(model.state_dict(), \"cnn/trained/mnist_cnn_net_\"+str(neuros)+\".pt\")\n",
    "    print(accuracy_list)\n",
    "    accuracys.append(accuracy_list)\n",
    "\n",
    "print(accuracys)"
   ]
  },
  {
   "cell_type": "code",
   "execution_count": null,
   "metadata": {
    "colab": {
     "base_uri": "https://localhost:8080/",
     "height": 332
    },
    "id": "d-KlxbWnvA3v",
    "outputId": "be90aeee-5a21-4766-cbe2-90311dd94f4e"
   },
   "outputs": [],
   "source": [
    "import matplotlib.pyplot as plt\n",
    "import matplotlib\n",
    "import seaborn as sns\n",
    "import pandas as pd\n",
    "sns.set_theme(style=\"darkgrid\")\n",
    "\n",
    "print(accuracys)\n",
    "x = range(1, epoch_num+1)\n",
    "\n",
    "plt.figure()\n",
    "y1 = accuracys[0]\n",
    "y2 = accuracys[1]\n",
    "y3 = accuracys[2]\n",
    "plt.plot(x, y1, label='DNN', linestyle='dotted')\n",
    "plt.plot(x, y2, label='Simple CNN', linestyle='dashdot')\n",
    "plt.plot(x, y3, label='CNN')\n",
    "plt.yticks()\n",
    "plt.legend()\n",
    "plt.xlabel('Epoch')\n",
    "plt.ylabel('Accuracy(%)')\n",
    "plt.title('The accuracy of the different depth neural network ')\n",
    "plt.show()"
   ]
  }
 ],
 "metadata": {
  "accelerator": "GPU",
  "colab": {
   "name": "Train NN.ipynb",
   "provenance": []
  },
  "kernelspec": {
   "display_name": "Python 3",
   "language": "python",
   "name": "python3"
  },
  "language_info": {
   "codemirror_mode": {
    "name": "ipython",
    "version": 3
   },
   "file_extension": ".py",
   "mimetype": "text/x-python",
   "name": "python",
   "nbconvert_exporter": "python",
   "pygments_lexer": "ipython3",
   "version": "3.8.10"
  }
 },
 "nbformat": 4,
 "nbformat_minor": 1
}
